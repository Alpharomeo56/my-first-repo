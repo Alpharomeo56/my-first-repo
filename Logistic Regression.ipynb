{
 "cells": [
  {
   "cell_type": "code",
   "execution_count": 47,
   "metadata": {},
   "outputs": [],
   "source": [
    "import numpy as np\n",
    "import pandas as pd"
   ]
  },
  {
   "cell_type": "code",
   "execution_count": 48,
   "metadata": {},
   "outputs": [
    {
     "data": {
      "text/html": [
       "<div>\n",
       "<style scoped>\n",
       "    .dataframe tbody tr th:only-of-type {\n",
       "        vertical-align: middle;\n",
       "    }\n",
       "\n",
       "    .dataframe tbody tr th {\n",
       "        vertical-align: top;\n",
       "    }\n",
       "\n",
       "    .dataframe thead th {\n",
       "        text-align: right;\n",
       "    }\n",
       "</style>\n",
       "<table border=\"1\" class=\"dataframe\">\n",
       "  <thead>\n",
       "    <tr style=\"text-align: right;\">\n",
       "      <th></th>\n",
       "      <th>Unnamed: 0</th>\n",
       "      <th>row_id</th>\n",
       "      <th>order_id</th>\n",
       "      <th>order_date</th>\n",
       "      <th>ship_date</th>\n",
       "      <th>ship_mode</th>\n",
       "      <th>customer_id</th>\n",
       "      <th>customer_name</th>\n",
       "      <th>cust_age</th>\n",
       "      <th>cust_gender</th>\n",
       "      <th>...</th>\n",
       "      <th>region</th>\n",
       "      <th>product_id</th>\n",
       "      <th>category</th>\n",
       "      <th>sub_category</th>\n",
       "      <th>product_name</th>\n",
       "      <th>sales</th>\n",
       "      <th>quantity</th>\n",
       "      <th>discount</th>\n",
       "      <th>profit</th>\n",
       "      <th>returned</th>\n",
       "    </tr>\n",
       "  </thead>\n",
       "  <tbody>\n",
       "    <tr>\n",
       "      <th>0</th>\n",
       "      <td>18</td>\n",
       "      <td>19</td>\n",
       "      <td>CA-2015-143336</td>\n",
       "      <td>27/08/15</td>\n",
       "      <td>01/09/15</td>\n",
       "      <td>Second Class</td>\n",
       "      <td>ZD-21925</td>\n",
       "      <td>Zuschuss Donatelli</td>\n",
       "      <td>19</td>\n",
       "      <td>Female</td>\n",
       "      <td>...</td>\n",
       "      <td>West</td>\n",
       "      <td>OFF-AR-10003056</td>\n",
       "      <td>Office Supplies</td>\n",
       "      <td>Art</td>\n",
       "      <td>Newell 341</td>\n",
       "      <td>8.56</td>\n",
       "      <td>2</td>\n",
       "      <td>0.0</td>\n",
       "      <td>2.4824</td>\n",
       "      <td>True</td>\n",
       "    </tr>\n",
       "    <tr>\n",
       "      <th>1</th>\n",
       "      <td>19</td>\n",
       "      <td>20</td>\n",
       "      <td>CA-2015-143336</td>\n",
       "      <td>27/08/15</td>\n",
       "      <td>01/09/15</td>\n",
       "      <td>Second Class</td>\n",
       "      <td>ZD-21925</td>\n",
       "      <td>Zuschuss Donatelli</td>\n",
       "      <td>21</td>\n",
       "      <td>Female</td>\n",
       "      <td>...</td>\n",
       "      <td>West</td>\n",
       "      <td>TEC-PH-10001949</td>\n",
       "      <td>Technology</td>\n",
       "      <td>Phones</td>\n",
       "      <td>Cisco SPA 501G IP Phone</td>\n",
       "      <td>213.48</td>\n",
       "      <td>3</td>\n",
       "      <td>0.2</td>\n",
       "      <td>16.0110</td>\n",
       "      <td>True</td>\n",
       "    </tr>\n",
       "    <tr>\n",
       "      <th>2</th>\n",
       "      <td>20</td>\n",
       "      <td>21</td>\n",
       "      <td>CA-2015-143336</td>\n",
       "      <td>27/08/15</td>\n",
       "      <td>01/09/15</td>\n",
       "      <td>Second Class</td>\n",
       "      <td>ZD-21925</td>\n",
       "      <td>Zuschuss Donatelli</td>\n",
       "      <td>22</td>\n",
       "      <td>Female</td>\n",
       "      <td>...</td>\n",
       "      <td>West</td>\n",
       "      <td>OFF-BI-10002215</td>\n",
       "      <td>Office Supplies</td>\n",
       "      <td>Binders</td>\n",
       "      <td>Wilson Jones Hanging View Binder, White, 1\"</td>\n",
       "      <td>22.72</td>\n",
       "      <td>4</td>\n",
       "      <td>0.2</td>\n",
       "      <td>7.3840</td>\n",
       "      <td>True</td>\n",
       "    </tr>\n",
       "    <tr>\n",
       "      <th>3</th>\n",
       "      <td>55</td>\n",
       "      <td>56</td>\n",
       "      <td>CA-2017-111682</td>\n",
       "      <td>17/06/17</td>\n",
       "      <td>18/06/17</td>\n",
       "      <td>First Class</td>\n",
       "      <td>TB-21055</td>\n",
       "      <td>Ted Butterfield</td>\n",
       "      <td>20</td>\n",
       "      <td>Female</td>\n",
       "      <td>...</td>\n",
       "      <td>East</td>\n",
       "      <td>OFF-ST-10000604</td>\n",
       "      <td>Office Supplies</td>\n",
       "      <td>Storage</td>\n",
       "      <td>Home/Office Personal File Carts</td>\n",
       "      <td>208.56</td>\n",
       "      <td>6</td>\n",
       "      <td>0.0</td>\n",
       "      <td>52.1400</td>\n",
       "      <td>True</td>\n",
       "    </tr>\n",
       "    <tr>\n",
       "      <th>4</th>\n",
       "      <td>56</td>\n",
       "      <td>57</td>\n",
       "      <td>CA-2017-111682</td>\n",
       "      <td>17/06/17</td>\n",
       "      <td>18/06/17</td>\n",
       "      <td>First Class</td>\n",
       "      <td>TB-21055</td>\n",
       "      <td>Ted Butterfield</td>\n",
       "      <td>19</td>\n",
       "      <td>Female</td>\n",
       "      <td>...</td>\n",
       "      <td>East</td>\n",
       "      <td>OFF-PA-10001569</td>\n",
       "      <td>Office Supplies</td>\n",
       "      <td>Paper</td>\n",
       "      <td>Xerox 232</td>\n",
       "      <td>32.40</td>\n",
       "      <td>5</td>\n",
       "      <td>0.0</td>\n",
       "      <td>15.5520</td>\n",
       "      <td>True</td>\n",
       "    </tr>\n",
       "  </tbody>\n",
       "</table>\n",
       "<p>5 rows × 25 columns</p>\n",
       "</div>"
      ],
      "text/plain": [
       "   Unnamed: 0  row_id        order_id order_date ship_date     ship_mode  \\\n",
       "0          18      19  CA-2015-143336   27/08/15  01/09/15  Second Class   \n",
       "1          19      20  CA-2015-143336   27/08/15  01/09/15  Second Class   \n",
       "2          20      21  CA-2015-143336   27/08/15  01/09/15  Second Class   \n",
       "3          55      56  CA-2017-111682   17/06/17  18/06/17   First Class   \n",
       "4          56      57  CA-2017-111682   17/06/17  18/06/17   First Class   \n",
       "\n",
       "  customer_id       customer_name  cust_age cust_gender   ...    region  \\\n",
       "0    ZD-21925  Zuschuss Donatelli        19      Female   ...      West   \n",
       "1    ZD-21925  Zuschuss Donatelli        21      Female   ...      West   \n",
       "2    ZD-21925  Zuschuss Donatelli        22      Female   ...      West   \n",
       "3    TB-21055     Ted Butterfield        20      Female   ...      East   \n",
       "4    TB-21055     Ted Butterfield        19      Female   ...      East   \n",
       "\n",
       "        product_id         category sub_category  \\\n",
       "0  OFF-AR-10003056  Office Supplies          Art   \n",
       "1  TEC-PH-10001949       Technology       Phones   \n",
       "2  OFF-BI-10002215  Office Supplies      Binders   \n",
       "3  OFF-ST-10000604  Office Supplies      Storage   \n",
       "4  OFF-PA-10001569  Office Supplies        Paper   \n",
       "\n",
       "                                  product_name   sales quantity discount  \\\n",
       "0                                   Newell 341    8.56        2      0.0   \n",
       "1                      Cisco SPA 501G IP Phone  213.48        3      0.2   \n",
       "2  Wilson Jones Hanging View Binder, White, 1\"   22.72        4      0.2   \n",
       "3              Home/Office Personal File Carts  208.56        6      0.0   \n",
       "4                                    Xerox 232   32.40        5      0.0   \n",
       "\n",
       "    profit returned  \n",
       "0   2.4824     True  \n",
       "1  16.0110     True  \n",
       "2   7.3840     True  \n",
       "3  52.1400     True  \n",
       "4  15.5520     True  \n",
       "\n",
       "[5 rows x 25 columns]"
      ]
     },
     "execution_count": 48,
     "metadata": {},
     "output_type": "execute_result"
    }
   ],
   "source": [
    "sales = pd.read_csv(\"C:/Users/NICE/Desktop/Python_files/sales_returns.csv\")\n",
    "sales.head()"
   ]
  },
  {
   "cell_type": "code",
   "execution_count": 49,
   "metadata": {},
   "outputs": [],
   "source": [
    "from sklearn.preprocessing import LabelEncoder\n",
    "enc = LabelEncoder()\n",
    "#sales.cust_age = enc.fit_transform(sales.cust_age)\n",
    "sales.cust_gender = enc.fit_transform(sales.cust_gender)\n",
    "sales.city= enc.fit_transform(sales.city)\n",
    "sales.sub_category = enc.fit_transform(sales.sub_category)"
   ]
  },
  {
   "cell_type": "code",
   "execution_count": 50,
   "metadata": {},
   "outputs": [],
   "source": [
    "X = sales.loc[:,['cust_age','cust_gender','quantity','city','sub_category','discount','sales']]\n",
    "y = sales.returned"
   ]
  },
  {
   "cell_type": "code",
   "execution_count": 51,
   "metadata": {},
   "outputs": [],
   "source": [
    "from sklearn.model_selection import train_test_split\n",
    "X_train, X_test, y_train, y_test = train_test_split(X,y, test_size = 0.3, random_state = 10)"
   ]
  },
  {
   "cell_type": "code",
   "execution_count": 52,
   "metadata": {},
   "outputs": [],
   "source": [
    "from sklearn.linear_model import LogisticRegression\n",
    "model = LogisticRegression()\n",
    "model.fit(X_train,y_train)\n",
    "y_predict = model.predict(X_test)\n"
   ]
  },
  {
   "cell_type": "code",
   "execution_count": 53,
   "metadata": {},
   "outputs": [
    {
     "data": {
      "text/plain": [
       "0.8976982097186701"
      ]
     },
     "execution_count": 53,
     "metadata": {},
     "output_type": "execute_result"
    }
   ],
   "source": [
    "from sklearn.metrics import accuracy_score,confusion_matrix\n",
    "accuracy_score(y_test,y_predict)\n",
    "\n"
   ]
  },
  {
   "cell_type": "code",
   "execution_count": 54,
   "metadata": {},
   "outputs": [
    {
     "data": {
      "text/plain": [
       "array([[142,  12],\n",
       "       [ 28, 209]], dtype=int64)"
      ]
     },
     "execution_count": 54,
     "metadata": {},
     "output_type": "execute_result"
    }
   ],
   "source": [
    "confusion_matrix(y_test,y_predict)"
   ]
  },
  {
   "cell_type": "code",
   "execution_count": 55,
   "metadata": {},
   "outputs": [
    {
     "data": {
      "text/html": [
       "<div>\n",
       "<style scoped>\n",
       "    .dataframe tbody tr th:only-of-type {\n",
       "        vertical-align: middle;\n",
       "    }\n",
       "\n",
       "    .dataframe tbody tr th {\n",
       "        vertical-align: top;\n",
       "    }\n",
       "\n",
       "    .dataframe thead th {\n",
       "        text-align: right;\n",
       "    }\n",
       "</style>\n",
       "<table border=\"1\" class=\"dataframe\">\n",
       "  <thead>\n",
       "    <tr style=\"text-align: right;\">\n",
       "      <th>col_0</th>\n",
       "      <th>False</th>\n",
       "      <th>True</th>\n",
       "    </tr>\n",
       "    <tr>\n",
       "      <th>returned</th>\n",
       "      <th></th>\n",
       "      <th></th>\n",
       "    </tr>\n",
       "  </thead>\n",
       "  <tbody>\n",
       "    <tr>\n",
       "      <th>False</th>\n",
       "      <td>142</td>\n",
       "      <td>12</td>\n",
       "    </tr>\n",
       "    <tr>\n",
       "      <th>True</th>\n",
       "      <td>28</td>\n",
       "      <td>209</td>\n",
       "    </tr>\n",
       "  </tbody>\n",
       "</table>\n",
       "</div>"
      ],
      "text/plain": [
       "col_0     False  True \n",
       "returned              \n",
       "False       142     12\n",
       "True         28    209"
      ]
     },
     "execution_count": 55,
     "metadata": {},
     "output_type": "execute_result"
    }
   ],
   "source": [
    "pd.crosstab(y_test,y_predict)"
   ]
  },
  {
   "cell_type": "code",
   "execution_count": 56,
   "metadata": {},
   "outputs": [
    {
     "data": {
      "text/plain": [
       "102     False\n",
       "307     False\n",
       "1028     True\n",
       "589      True\n",
       "1017     True\n",
       "Name: returned, dtype: bool"
      ]
     },
     "execution_count": 56,
     "metadata": {},
     "output_type": "execute_result"
    }
   ],
   "source": [
    "y_test.head()"
   ]
  },
  {
   "cell_type": "code",
   "execution_count": 57,
   "metadata": {},
   "outputs": [
    {
     "data": {
      "text/plain": [
       "array([False, False,  True,  True,  True])"
      ]
     },
     "execution_count": 57,
     "metadata": {},
     "output_type": "execute_result"
    }
   ],
   "source": [
    "y_predict[0:5]"
   ]
  }
 ],
 "metadata": {
  "kernelspec": {
   "display_name": "Python 3",
   "language": "python",
   "name": "python3"
  },
  "language_info": {
   "codemirror_mode": {
    "name": "ipython",
    "version": 3
   },
   "file_extension": ".py",
   "mimetype": "text/x-python",
   "name": "python",
   "nbconvert_exporter": "python",
   "pygments_lexer": "ipython3",
   "version": "3.7.0"
  }
 },
 "nbformat": 4,
 "nbformat_minor": 2
}
